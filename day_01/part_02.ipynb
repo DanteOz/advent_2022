{
 "cells": [
  {
   "cell_type": "code",
   "execution_count": 33,
   "id": "85ad4e90-2f6d-4263-955d-f5babb3761ff",
   "metadata": {},
   "outputs": [],
   "source": [
    "with open(\"input.txt\", \"r\") as fp:\n",
    "    data = fp.read()"
   ]
  },
  {
   "cell_type": "code",
   "execution_count": 34,
   "id": "76a9295e-9a8b-4e4e-88d9-6802e064aa0f",
   "metadata": {},
   "outputs": [],
   "source": [
    "elves = {}"
   ]
  },
  {
   "cell_type": "code",
   "execution_count": 35,
   "id": "70cef953-d3bc-4a36-a09c-638028f0385c",
   "metadata": {},
   "outputs": [],
   "source": [
    "elves = []\n",
    "running_total = 0\n",
    "for line in data.split(\"\\n\"):\n",
    "    if line == \"\":\n",
    "        elves.append(running_total)\n",
    "        running_total = 0\n",
    "    else:\n",
    "        running_total += int(line)\n",
    "elves.append(running_total)"
   ]
  },
  {
   "cell_type": "code",
   "execution_count": 36,
   "id": "a9eec2b6-cdd9-4526-b2a5-4f2aa490d52e",
   "metadata": {},
   "outputs": [],
   "source": [
    "maxes = 0\n",
    "for i in range(3):\n",
    "    largest = max(enumerate(elves), key=lambda x: x[-1])\n",
    "    maxes += largest[1]\n",
    "    del elves[largest[0]]"
   ]
  },
  {
   "cell_type": "code",
   "execution_count": 37,
   "id": "bf6e7ce6-0c1a-4dff-83ae-d14825571902",
   "metadata": {},
   "outputs": [
    {
     "data": {
      "text/plain": [
       "204837"
      ]
     },
     "execution_count": 37,
     "metadata": {},
     "output_type": "execute_result"
    }
   ],
   "source": [
    "maxes"
   ]
  },
  {
   "cell_type": "code",
   "execution_count": null,
   "id": "15e4ad0a-76a7-45c3-a112-46f389ad4a9b",
   "metadata": {},
   "outputs": [],
   "source": []
  }
 ],
 "metadata": {
  "kernelspec": {
   "display_name": "Python [conda env:dev] *",
   "language": "python",
   "name": "conda-env-dev-py"
  },
  "language_info": {
   "codemirror_mode": {
    "name": "ipython",
    "version": 3
   },
   "file_extension": ".py",
   "mimetype": "text/x-python",
   "name": "python",
   "nbconvert_exporter": "python",
   "pygments_lexer": "ipython3",
   "version": "3.10.4"
  }
 },
 "nbformat": 4,
 "nbformat_minor": 5
}
