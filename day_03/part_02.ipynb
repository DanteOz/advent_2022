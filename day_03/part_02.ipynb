{
 "cells": [
  {
   "cell_type": "code",
   "execution_count": 6,
   "id": "ed57a4a9-f2ee-4bd6-b433-2bf10d01ff2f",
   "metadata": {},
   "outputs": [],
   "source": [
    "with open(\"inputs.txt\",\"r\") as fp:\n",
    "    data = fp.read()"
   ]
  },
  {
   "cell_type": "code",
   "execution_count": 7,
   "id": "a8170a80-2898-4492-a8e9-29090e5cf11e",
   "metadata": {},
   "outputs": [],
   "source": [
    "from functools import reduce"
   ]
  },
  {
   "cell_type": "code",
   "execution_count": 20,
   "id": "c0fcee73-7033-4a08-8590-9edd2c0ff6ce",
   "metadata": {},
   "outputs": [],
   "source": [
    "def intersection(a,b):\n",
    "    return a.intersection(b)"
   ]
  },
  {
   "cell_type": "code",
   "execution_count": 26,
   "id": "d80e781b-314d-4452-ab0d-b848037ee4d7",
   "metadata": {},
   "outputs": [],
   "source": [
    "total = 0\n",
    "group = []\n",
    "for rucsack in data.split(\"\\n\"):\n",
    "    if len(group) <=3:\n",
    "        group.append(set(rucsack))\n",
    "        \n",
    "    if len(group) == 3:\n",
    "        common = list(reduce(intersection, group))[0]\n",
    "        if common.islower():\n",
    "            total += ord(common)-96\n",
    "        else:\n",
    "            total += ord(common)-38\n",
    "        group = []"
   ]
  },
  {
   "cell_type": "code",
   "execution_count": 27,
   "id": "6659ba47",
   "metadata": {},
   "outputs": [
    {
     "data": {
      "text/plain": [
       "2633"
      ]
     },
     "execution_count": 27,
     "metadata": {},
     "output_type": "execute_result"
    }
   ],
   "source": [
    "total"
   ]
  },
  {
   "cell_type": "code",
   "execution_count": null,
   "id": "e3960c63-c13e-48dd-b86f-543dd14d4171",
   "metadata": {},
   "outputs": [],
   "source": []
  }
 ],
 "metadata": {
  "kernelspec": {
   "display_name": "Python 3 (ipykernel)",
   "language": "python",
   "name": "python3"
  },
  "language_info": {
   "codemirror_mode": {
    "name": "ipython",
    "version": 3
   },
   "file_extension": ".py",
   "mimetype": "text/x-python",
   "name": "python",
   "nbconvert_exporter": "python",
   "pygments_lexer": "ipython3",
   "version": "3.10.4"
  }
 },
 "nbformat": 4,
 "nbformat_minor": 5
}
