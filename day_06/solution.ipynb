{
 "cells": [
  {
   "cell_type": "code",
   "execution_count": 101,
   "id": "ed57a4a9-f2ee-4bd6-b433-2bf10d01ff2f",
   "metadata": {},
   "outputs": [],
   "source": [
    "with open(\"inputs.txt\",\"r\") as fp:\n",
    "    data = fp.read()"
   ]
  },
  {
   "cell_type": "code",
   "execution_count": 114,
   "id": "d80e781b-314d-4452-ab0d-b848037ee4d7",
   "metadata": {},
   "outputs": [],
   "source": [
    "def find(data, size):\n",
    "    for i, c in enumerate(data):\n",
    "        if i >= size-1:\n",
    "            prev = data[i-size+1:i+1]\n",
    "            if len(set(prev)) == size:\n",
    "                return i+1, c, prev"
   ]
  },
  {
   "cell_type": "code",
   "execution_count": 115,
   "id": "a6e1d0aa",
   "metadata": {},
   "outputs": [
    {
     "name": "stdout",
     "output_type": "stream",
     "text": [
      "(7, 'm', 'jpqm')\n",
      "(5, 'j', 'vwbj')\n",
      "(6, 'j', 'pdvj')\n",
      "(10, 't', 'rfnt')\n",
      "(11, 'r', 'zqfr')\n"
     ]
    }
   ],
   "source": [
    "print(find(\"mjqjpqmgbljsphdztnvjfqwrcgsmlb\", size=4))\n",
    "print(find(\"bvwbjplbgvbhsrlpgdmjqwftvncz\", size=4))\n",
    "print(find(\"nppdvjthqldpwncqszvftbrmjlhg\", size=4))\n",
    "print(find(\"nznrnfrfntjfmvfwmzdfjlvtqnbhcprsg\", size=4))\n",
    "print(find(\"zcfzfwzzqfrljwzlrfnpqdbhtmscgvjw\", size=4))"
   ]
  },
  {
   "cell_type": "code",
   "execution_count": 116,
   "id": "570d606a",
   "metadata": {},
   "outputs": [
    {
     "data": {
      "text/plain": [
       "(1909, 'w', 'lhtw')"
      ]
     },
     "execution_count": 116,
     "metadata": {},
     "output_type": "execute_result"
    }
   ],
   "source": [
    "find(data, size=4)"
   ]
  },
  {
   "cell_type": "code",
   "execution_count": 117,
   "id": "3b8fcba4",
   "metadata": {},
   "outputs": [
    {
     "data": {
      "text/plain": [
       "(3380, 'r', 'hndbzfswtmvcpr')"
      ]
     },
     "execution_count": 117,
     "metadata": {},
     "output_type": "execute_result"
    }
   ],
   "source": [
    "find(data, size=14)"
   ]
  },
  {
   "cell_type": "code",
   "execution_count": null,
   "id": "3fae3678",
   "metadata": {},
   "outputs": [],
   "source": []
  }
 ],
 "metadata": {
  "kernelspec": {
   "display_name": "Python 3.10.8 ('dev')",
   "language": "python",
   "name": "python3"
  },
  "language_info": {
   "codemirror_mode": {
    "name": "ipython",
    "version": 3
   },
   "file_extension": ".py",
   "mimetype": "text/x-python",
   "name": "python",
   "nbconvert_exporter": "python",
   "pygments_lexer": "ipython3",
   "version": "3.10.8"
  },
  "vscode": {
   "interpreter": {
    "hash": "03fa1f4e9d257abca4d88c2130e286fd32b528435bae62aa59b7b3a9917b7df3"
   }
  }
 },
 "nbformat": 4,
 "nbformat_minor": 5
}
