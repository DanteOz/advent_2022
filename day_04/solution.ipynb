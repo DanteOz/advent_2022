{
 "cells": [
  {
   "cell_type": "code",
   "execution_count": 1,
   "id": "ed57a4a9-f2ee-4bd6-b433-2bf10d01ff2f",
   "metadata": {},
   "outputs": [],
   "source": [
    "with open(\"inputs.txt\",\"r\") as fp:\n",
    "    data = fp.read()"
   ]
  },
  {
   "cell_type": "markdown",
   "id": "2af8be23-96a6-4980-901b-1244a7d9c9d6",
   "metadata": {},
   "source": [
    "1) Section Id\n",
    "2) Elves range section ids\n",
    "3) Asssignements overlap"
   ]
  },
  {
   "cell_type": "markdown",
   "id": "8fc2ecfd-a977-428f-a42e-45b7c79c2fa8",
   "metadata": {
    "tags": []
   },
   "source": [
    "# Part 1"
   ]
  },
  {
   "cell_type": "code",
   "execution_count": null,
   "id": "a2081f9d-2952-4a27-b1be-d50f6df767e2",
   "metadata": {},
   "outputs": [],
   "source": [
    "def contains(a: list, b: list):\n",
    "    return a[0] <= b[0] and a[1] >= b[1]\n"
   ]
  },
  {
   "cell_type": "code",
   "execution_count": 22,
   "id": "d80e781b-314d-4452-ab0d-b848037ee4d7",
   "metadata": {},
   "outputs": [],
   "source": [
    "total = 0\n",
    "for line in data.split(\"\\n\"):\n",
    "    a, b = tuple(map(lambda x: tuple(map(int, x.split(\"-\"))), line.split(\",\")))\n",
    "    if contains(a, b) or contains(b, a):\n",
    "        total += 1\n"
   ]
  },
  {
   "cell_type": "code",
   "execution_count": 23,
   "id": "a7cd1f12-0ac6-4e72-9ad7-7b4449c499b8",
   "metadata": {},
   "outputs": [
    {
     "data": {
      "text/plain": [
       "651"
      ]
     },
     "execution_count": 23,
     "metadata": {},
     "output_type": "execute_result"
    }
   ],
   "source": [
    "total"
   ]
  },
  {
   "cell_type": "markdown",
   "id": "2a4458fa-9cde-47ac-a8d2-b8df2c2ba342",
   "metadata": {},
   "source": [
    "# Part 2"
   ]
  },
  {
   "cell_type": "code",
   "execution_count": 24,
   "id": "4b9bedcd-3765-4000-b421-6174202f72b4",
   "metadata": {},
   "outputs": [],
   "source": [
    "def contains(a: list, b: list):\n",
    "    return (a[0] <= b[0] <= a[1]) or (a[0] <= b[1] <= a[1])\n"
   ]
  },
  {
   "cell_type": "code",
   "execution_count": 25,
   "id": "bdbfcf60-3ea2-488a-ae4f-1e4d2c10f661",
   "metadata": {},
   "outputs": [],
   "source": [
    "total = 0\n",
    "for line in data.split(\"\\n\"):\n",
    "    a, b = tuple(map(lambda x: tuple(map(int, x.split(\"-\"))), line.split(\",\")))\n",
    "    if contains(a, b) or contains(b, a):\n",
    "        total += 1\n"
   ]
  },
  {
   "cell_type": "code",
   "execution_count": 26,
   "id": "46dee264-44d3-4774-9423-3bfbc17f6db4",
   "metadata": {},
   "outputs": [
    {
     "data": {
      "text/plain": [
       "956"
      ]
     },
     "execution_count": 26,
     "metadata": {},
     "output_type": "execute_result"
    }
   ],
   "source": [
    "total"
   ]
  },
  {
   "cell_type": "code",
   "execution_count": null,
   "id": "845cf978-cb12-46c8-b166-b8141be0aecd",
   "metadata": {},
   "outputs": [],
   "source": []
  }
 ],
 "metadata": {
  "kernelspec": {
   "display_name": "Python [conda env:dev] *",
   "language": "python",
   "name": "conda-env-dev-py"
  },
  "language_info": {
   "codemirror_mode": {
    "name": "ipython",
    "version": 3
   },
   "file_extension": ".py",
   "mimetype": "text/x-python",
   "name": "python",
   "nbconvert_exporter": "python",
   "pygments_lexer": "ipython3",
   "version": "3.10.8"
  }
 },
 "nbformat": 4,
 "nbformat_minor": 5
}
