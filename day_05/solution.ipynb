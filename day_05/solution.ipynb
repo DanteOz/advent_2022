{
 "cells": [
  {
   "cell_type": "code",
   "execution_count": 59,
   "id": "ed57a4a9-f2ee-4bd6-b433-2bf10d01ff2f",
   "metadata": {},
   "outputs": [],
   "source": [
    "with open(\"inputs.txt\",\"r\") as fp:\n",
    "    data = fp.readlines()"
   ]
  },
  {
   "cell_type": "code",
   "execution_count": 60,
   "id": "b4a4e136",
   "metadata": {},
   "outputs": [],
   "source": [
    "import re"
   ]
  },
  {
   "cell_type": "code",
   "execution_count": 99,
   "id": "d80e781b-314d-4452-ab0d-b848037ee4d7",
   "metadata": {},
   "outputs": [],
   "source": [
    "diagram = [l.strip() for l in data[:8]]\n",
    "instructions = [l.strip() for l in data[10:]]"
   ]
  },
  {
   "cell_type": "code",
   "execution_count": 105,
   "id": "e59ec301",
   "metadata": {},
   "outputs": [],
   "source": [
    "parsed = [re.sub(\" (\\s{3})\", \" [ ]\", l) for l in diagram]\n",
    "parsed = [re.findall(\"\\[(\\w|\\s)\\]\", l) for l in parsed]\n",
    "columns = [list(i) for i in zip(*parsed)]\n",
    "columns = [list(filter(lambda x: x !=\" \", column)) for column in columns]"
   ]
  },
  {
   "cell_type": "code",
   "execution_count": 106,
   "id": "0d9d4ed8",
   "metadata": {},
   "outputs": [
    {
     "data": {
      "text/plain": [
       "[['Q', 'G', 'P', 'R', 'L', 'C', 'T', 'F'],\n",
       " ['J', 'S', 'F', 'R', 'W', 'H', 'Q', 'N'],\n",
       " ['Q', 'M', 'P', 'W', 'H', 'B', 'F'],\n",
       " ['F', 'D', 'T', 'S', 'V'],\n",
       " ['Z', 'F', 'V', 'W', 'D', 'L', 'Q'],\n",
       " ['S', 'L', 'C', 'Z'],\n",
       " ['F', 'D', 'V', 'M', 'B', 'Z'],\n",
       " ['B', 'J', 'T'],\n",
       " ['H', 'P', 'S', 'L', 'G', 'B', 'N', 'Q']]"
      ]
     },
     "execution_count": 106,
     "metadata": {},
     "output_type": "execute_result"
    }
   ],
   "source": [
    "columns"
   ]
  },
  {
   "cell_type": "code",
   "execution_count": 107,
   "id": "bc8513e2",
   "metadata": {},
   "outputs": [],
   "source": [
    "for instruction in instructions:\n",
    "   \n",
    "    quantity, source, destination = tuple(map(int,re.findall(\"\\d+\", instruction)))\n",
    "    \n",
    "    for _ in range(quantity):\n",
    "        element = columns[source-1].pop(0)\n",
    "        columns[destination-1].insert(0, element)\n",
    "    "
   ]
  },
  {
   "cell_type": "code",
   "execution_count": 111,
   "id": "d85439d7",
   "metadata": {},
   "outputs": [
    {
     "data": {
      "text/plain": [
       "'VGBBJCRMN'"
      ]
     },
     "execution_count": 111,
     "metadata": {},
     "output_type": "execute_result"
    }
   ],
   "source": [
    "\"\".join([c[0] for c in columns])"
   ]
  },
  {
   "cell_type": "markdown",
   "id": "16de50eb",
   "metadata": {},
   "source": [
    "# Part 2"
   ]
  },
  {
   "cell_type": "code",
   "execution_count": 117,
   "id": "d80e781b-314d-4452-ab0d-b848037ee4d7",
   "metadata": {},
   "outputs": [],
   "source": [
    "diagram = [l.strip() for l in data[:8]]\n",
    "instructions = [l.strip() for l in data[10:]]"
   ]
  },
  {
   "cell_type": "code",
   "execution_count": 118,
   "id": "e59ec301",
   "metadata": {},
   "outputs": [],
   "source": [
    "parsed = [re.sub(\" (\\s{3})\", \" [ ]\", l) for l in diagram]\n",
    "parsed = [re.findall(\"\\[(\\w|\\s)\\]\", l) for l in parsed]\n",
    "columns = [list(i) for i in zip(*parsed)]\n",
    "columns = [list(filter(lambda x: x !=\" \", column)) for column in columns]"
   ]
  },
  {
   "cell_type": "code",
   "execution_count": 119,
   "id": "0d9d4ed8",
   "metadata": {},
   "outputs": [
    {
     "data": {
      "text/plain": [
       "[['Q', 'G', 'P', 'R', 'L', 'C', 'T', 'F'],\n",
       " ['J', 'S', 'F', 'R', 'W', 'H', 'Q', 'N'],\n",
       " ['Q', 'M', 'P', 'W', 'H', 'B', 'F'],\n",
       " ['F', 'D', 'T', 'S', 'V'],\n",
       " ['Z', 'F', 'V', 'W', 'D', 'L', 'Q'],\n",
       " ['S', 'L', 'C', 'Z'],\n",
       " ['F', 'D', 'V', 'M', 'B', 'Z'],\n",
       " ['B', 'J', 'T'],\n",
       " ['H', 'P', 'S', 'L', 'G', 'B', 'N', 'Q']]"
      ]
     },
     "execution_count": 119,
     "metadata": {},
     "output_type": "execute_result"
    }
   ],
   "source": [
    "columns"
   ]
  },
  {
   "cell_type": "code",
   "execution_count": 121,
   "id": "bc8513e2",
   "metadata": {},
   "outputs": [],
   "source": [
    "for instruction in instructions:\n",
    "   \n",
    "    quantity, source, destination = tuple(map(int,re.findall(\"\\d+\", instruction)))\n",
    "    \n",
    "    chunk = [columns[source-1].pop(0) for i in range(quantity)]\n",
    "    columns[destination-1] = chunk + columns[destination-1]\n",
    "    "
   ]
  },
  {
   "cell_type": "code",
   "execution_count": 122,
   "id": "d85439d7",
   "metadata": {},
   "outputs": [
    {
     "data": {
      "text/plain": [
       "'LBBVJBRMH'"
      ]
     },
     "execution_count": 122,
     "metadata": {},
     "output_type": "execute_result"
    }
   ],
   "source": [
    "\"\".join([c[0] for c in columns])"
   ]
  },
  {
   "cell_type": "code",
   "execution_count": null,
   "id": "98c3edb6",
   "metadata": {},
   "outputs": [],
   "source": []
  }
 ],
 "metadata": {
  "kernelspec": {
   "display_name": "Python 3.10.8 ('dev')",
   "language": "python",
   "name": "python3"
  },
  "language_info": {
   "codemirror_mode": {
    "name": "ipython",
    "version": 3
   },
   "file_extension": ".py",
   "mimetype": "text/x-python",
   "name": "python",
   "nbconvert_exporter": "python",
   "pygments_lexer": "ipython3",
   "version": "3.10.8"
  },
  "vscode": {
   "interpreter": {
    "hash": "03fa1f4e9d257abca4d88c2130e286fd32b528435bae62aa59b7b3a9917b7df3"
   }
  }
 },
 "nbformat": 4,
 "nbformat_minor": 5
}
