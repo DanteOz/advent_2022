{
 "cells": [
  {
   "cell_type": "code",
   "execution_count": 2,
   "id": "ed57a4a9-f2ee-4bd6-b433-2bf10d01ff2f",
   "metadata": {},
   "outputs": [],
   "source": [
    "with open(\"inputs.txt\",\"r\") as fp:\n",
    "    data = fp.read()"
   ]
  },
  {
   "cell_type": "code",
   "execution_count": 5,
   "id": "48fd51c6",
   "metadata": {},
   "outputs": [],
   "source": [
    "op_map = {\n",
    "    \"A\": \"ROCK\",\n",
    "    \"B\": \"PAPER\",\n",
    "    \"C\": \"SCISSOR\",\n",
    "}\n",
    "\n",
    "outcome_map = {\n",
    "    \"X\": \"LOSE\",\n",
    "    \"Y\": \"DRAW\",\n",
    "    \"Z\": \"WIN\",\n",
    "}\n",
    "\n",
    "wining_map = {\n",
    "    \"SCISSOR\": \"ROCK\",\n",
    "    \"ROCK\": \"PAPER\",\n",
    "    \"PAPER\": \"SCISSOR\",\n",
    "}\n",
    "\n",
    "losing_map = {v: k for k, v in wining_map.items()}\n",
    "\n",
    "score_map = {\n",
    "    \"ROCK\": 1,\n",
    "    \"PAPER\": 2,\n",
    "    \"SCISSOR\": 3,\n",
    "}\n"
   ]
  },
  {
   "cell_type": "code",
   "execution_count": 6,
   "id": "5ab5b59c",
   "metadata": {},
   "outputs": [],
   "source": [
    "score = 0\n",
    "for line in data.strip().split(\"\\n\"):\n",
    "    opponent, outcome = line.split(\" \")\n",
    "    opponent, outcome = op_map[opponent], outcome_map[outcome]\n",
    "\n",
    "    if outcome == \"WIN\": \n",
    "        score += 6\n",
    "        score += score_map[wining_map[opponent]]\n",
    "    elif outcome == \"DRAW\": \n",
    "        score += 3\n",
    "        score += score_map[opponent]\n",
    "    else:\n",
    "        score += score_map[losing_map[opponent]]"
   ]
  },
  {
   "cell_type": "code",
   "execution_count": 7,
   "id": "561faa68",
   "metadata": {},
   "outputs": [
    {
     "data": {
      "text/plain": [
       "12411"
      ]
     },
     "execution_count": 7,
     "metadata": {},
     "output_type": "execute_result"
    }
   ],
   "source": [
    "score"
   ]
  },
  {
   "cell_type": "code",
   "execution_count": null,
   "id": "a7387c67",
   "metadata": {},
   "outputs": [],
   "source": []
  }
 ],
 "metadata": {
  "kernelspec": {
   "display_name": "Python 3.10.4 ('dev')",
   "language": "python",
   "name": "python3"
  },
  "language_info": {
   "codemirror_mode": {
    "name": "ipython",
    "version": 3
   },
   "file_extension": ".py",
   "mimetype": "text/x-python",
   "name": "python",
   "nbconvert_exporter": "python",
   "pygments_lexer": "ipython3",
   "version": "3.10.4"
  },
  "vscode": {
   "interpreter": {
    "hash": "03fa1f4e9d257abca4d88c2130e286fd32b528435bae62aa59b7b3a9917b7df3"
   }
  }
 },
 "nbformat": 4,
 "nbformat_minor": 5
}
