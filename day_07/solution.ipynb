{
 "cells": [
  {
   "cell_type": "code",
   "execution_count": 1,
   "id": "5a944917",
   "metadata": {},
   "outputs": [],
   "source": [
    "from __future__ import annotations"
   ]
  },
  {
   "cell_type": "code",
   "execution_count": 2,
   "id": "ed57a4a9-f2ee-4bd6-b433-2bf10d01ff2f",
   "metadata": {},
   "outputs": [],
   "source": [
    "with open(\"inputs.txt\",\"r\") as fp:\n",
    "    data = fp.readlines()"
   ]
  },
  {
   "cell_type": "code",
   "execution_count": 10,
   "id": "870f580a",
   "metadata": {},
   "outputs": [],
   "source": [
    "from dataclasses import dataclass, field"
   ]
  },
  {
   "cell_type": "code",
   "execution_count": 4,
   "id": "ed43cad4",
   "metadata": {},
   "outputs": [],
   "source": [
    "from enum import Enum"
   ]
  },
  {
   "attachments": {},
   "cell_type": "markdown",
   "id": "fb1b2f53",
   "metadata": {},
   "source": [
    "# PART 1\n",
    "Commands are:\n",
    "1. cd\n",
    "2. ls"
   ]
  },
  {
   "cell_type": "code",
   "execution_count": 15,
   "id": "44f47778",
   "metadata": {},
   "outputs": [],
   "source": [
    "class NodeType(Enum):\n",
    "    dir: str = \"dir\"\n",
    "    file: str = \"file\""
   ]
  },
  {
   "cell_type": "code",
   "execution_count": 66,
   "id": "37f3ece6",
   "metadata": {},
   "outputs": [],
   "source": [
    "@dataclass\n",
    "class Node:\n",
    "    name: str\n",
    "    ntype: NodeType\n",
    "    parent: Node\n",
    "    childern: dict[str, Node] = field(default_factory = dict)\n",
    "    _size: int = None\n",
    "\n",
    "    @property\n",
    "    def size(self):\n",
    "        if self.ntype == NodeType.file:\n",
    "            return self._size\n",
    "        else:\n",
    "            return sum([v.size for _, v in self.childern.items()])"
   ]
  },
  {
   "cell_type": "code",
   "execution_count": 67,
   "id": "73d08460",
   "metadata": {},
   "outputs": [],
   "source": [
    "class FileSystem:\n",
    "    def __init__(self) -> None:\n",
    "        self.root = Node(\"/\", NodeType.dir, None)\n",
    "        self.cwd = self.root"
   ]
  },
  {
   "cell_type": "code",
   "execution_count": 68,
   "id": "c844cafd",
   "metadata": {},
   "outputs": [],
   "source": [
    "fs = FileSystem()\n",
    "listing = False\n",
    "for line in data:\n",
    "    parts: list[str] = line.strip().split(\" \")\n",
    "    if parts[0] == \"$\":\n",
    "        listing = False\n",
    "        if parts[1] == \"cd\":\n",
    "            if parts[2] == \"..\":  # Out one\n",
    "                fs.cwd = fs.cwd.parent\n",
    "            elif parts[2] == \"/\":  # Root\n",
    "                fs.cwd = fs.root\n",
    "            else:  # In one\n",
    "                fs.cwd = fs.cwd.childern[parts[2]]\n",
    "        elif parts[1] == \"ls\":\n",
    "            listing = True\n",
    "        else:\n",
    "            raise Exception(\"INVALID COMMAND\")\n",
    "    else:\n",
    "        if parts[0].isnumeric():\n",
    "            fs.cwd.childern[parts[1]] = Node(\n",
    "                name=parts[1],\n",
    "                ntype=NodeType.file,\n",
    "                parent=fs.cwd,\n",
    "                _size=int(parts[0]),\n",
    "            )\n",
    "        else:\n",
    "            fs.cwd.childern[parts[1]] = Node(\n",
    "                name=parts[1],\n",
    "                ntype=NodeType.dir,\n",
    "                parent=fs.cwd,\n",
    "            )\n"
   ]
  },
  {
   "cell_type": "code",
   "execution_count": 70,
   "id": "59a089aa",
   "metadata": {},
   "outputs": [],
   "source": [
    "canidates = []\n",
    "to_search: list[Node] = [fs.root]\n",
    "while len(to_search) > 0:\n",
    "    for _, child in to_search.pop(0).childern.items():\n",
    "        if child.ntype == NodeType.dir:\n",
    "            \n",
    "            if child.size <= 100000:\n",
    "                canidates.append(child)\n",
    "            to_search.append(child)\n",
    "\n",
    "for canidate in canidates:\n",
    "    assert canidate.size <= 100000"
   ]
  },
  {
   "cell_type": "code",
   "execution_count": 57,
   "id": "90604426",
   "metadata": {},
   "outputs": [
    {
     "data": {
      "text/plain": [
       "1086293"
      ]
     },
     "execution_count": 57,
     "metadata": {},
     "output_type": "execute_result"
    }
   ],
   "source": [
    "total = 0\n",
    "for canidate in canidates:\n",
    "    assert canidate.size() <= 100000\n",
    "    total += canidate.size()\n",
    "total"
   ]
  },
  {
   "cell_type": "markdown",
   "id": "e26d4477",
   "metadata": {},
   "source": [
    "# Part 2"
   ]
  },
  {
   "cell_type": "code",
   "execution_count": null,
   "id": "dee9c50d",
   "metadata": {},
   "outputs": [],
   "source": [
    "# Current: 70 000 000\n",
    "# Needed: 30 000 000"
   ]
  },
  {
   "cell_type": "code",
   "execution_count": 79,
   "id": "aee0995a",
   "metadata": {},
   "outputs": [],
   "source": [
    "disk = 70000000\n",
    "needed = 30000000\n",
    "used = fs.root.size\n",
    "available = disk-used"
   ]
  },
  {
   "cell_type": "code",
   "execution_count": 95,
   "id": "2c085886",
   "metadata": {},
   "outputs": [
    {
     "data": {
      "text/plain": [
       "358913"
      ]
     },
     "execution_count": 95,
     "metadata": {},
     "output_type": "execute_result"
    }
   ],
   "source": [
    "delta = needed - available; delta"
   ]
  },
  {
   "cell_type": "code",
   "execution_count": 97,
   "id": "5acd33f1",
   "metadata": {},
   "outputs": [],
   "source": [
    "canidates = []\n",
    "to_search: list[Node] = [fs.root]\n",
    "while len(to_search) > 0:\n",
    "    for _, child in to_search.pop(0).childern.items():\n",
    "        if child.ntype == NodeType.dir:\n",
    "            \n",
    "            if child.size >= delta:\n",
    "                canidates.append(child)\n",
    "            to_search.append(child)"
   ]
  },
  {
   "cell_type": "code",
   "execution_count": 99,
   "id": "a7a32fe2",
   "metadata": {},
   "outputs": [],
   "source": [
    "possible = min(filter(lambda x: x.size >= delta, canidates), key=lambda x: x.size)"
   ]
  },
  {
   "cell_type": "code",
   "execution_count": 101,
   "id": "3ac5a7db",
   "metadata": {},
   "outputs": [
    {
     "data": {
      "text/plain": [
       "366028"
      ]
     },
     "execution_count": 101,
     "metadata": {},
     "output_type": "execute_result"
    }
   ],
   "source": [
    "possible.size"
   ]
  }
 ],
 "metadata": {
  "kernelspec": {
   "display_name": "dev",
   "language": "python",
   "name": "python3"
  },
  "language_info": {
   "codemirror_mode": {
    "name": "ipython",
    "version": 3
   },
   "file_extension": ".py",
   "mimetype": "text/x-python",
   "name": "python",
   "nbconvert_exporter": "python",
   "pygments_lexer": "ipython3",
   "version": "3.10.8"
  },
  "vscode": {
   "interpreter": {
    "hash": "03fa1f4e9d257abca4d88c2130e286fd32b528435bae62aa59b7b3a9917b7df3"
   }
  }
 },
 "nbformat": 4,
 "nbformat_minor": 5
}
